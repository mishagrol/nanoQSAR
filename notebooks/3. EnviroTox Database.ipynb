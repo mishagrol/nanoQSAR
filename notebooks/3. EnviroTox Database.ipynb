{
 "cells": [
  {
   "cell_type": "markdown",
   "id": "f5003dd2-d753-4ace-9518-3cd577778159",
   "metadata": {},
   "source": [
    "### Экотоксичность\n",
    "\n",
    "-----\n",
    "\n",
    "\n",
    "Задачи:\n",
    "\n",
    "1. Сделать JOIN (Inner) между данными спектра и токсичности по SMILES\n",
    "\n",
    "2. Выбрать только один вид (трофический уровенья для обучения - INVERT)\n",
    "\n",
    "3. Построить распред - kdeplot для ec50\n",
    "\n",
    "4. Запустить Random Forest на этих сырых данных\n",
    "\n",
    "5. Подумать как сделать стратифакацию при обучение (проблема - мало токсичных в данных)\n",
    "\n",
    "Второй этап\n",
    "\n",
    "6. Сделать признаки из спектра ИК - взять пакеты для генерауии признаков из time-series\n",
    "\n",
    "7. Запустиь эти данные с 1D-CNN (можно в колабе)\n",
    "\n",
    "\n",
    "Как сделать smiles из названия -> import cirpy; resp = cirpy.resolve(name, 'smiles')"
   ]
  },
  {
   "cell_type": "markdown",
   "id": "90a1f57d-4031-42ed-a96f-fce465f81bf4",
   "metadata": {},
   "source": [
    "### 1. Чтение данных"
   ]
  },
  {
   "cell_type": "code",
   "execution_count": 8,
   "id": "0972fa88",
   "metadata": {},
   "outputs": [],
   "source": [
    "import pandas as pd\n",
    "import numpy as np"
   ]
  },
  {
   "cell_type": "code",
   "execution_count": 2,
   "id": "b4137813",
   "metadata": {},
   "outputs": [],
   "source": [
    "df = pd.read_excel('../data/envirotox_20230523104542.xlsx')"
   ]
  },
  {
   "cell_type": "code",
   "execution_count": 13,
   "id": "150b7481",
   "metadata": {},
   "outputs": [
    {
     "data": {
      "text/plain": [
       "array([     50000,      50022,      50066, ..., 1161016869, 1197379160,\n",
       "       1197379182])"
      ]
     },
     "execution_count": 13,
     "metadata": {},
     "output_type": "execute_result"
    }
   ],
   "source": [
    "df['original CAS'].unique()"
   ]
  },
  {
   "cell_type": "code",
   "execution_count": 9,
   "id": "dba1048b",
   "metadata": {},
   "outputs": [],
   "source": [
    "mask = df['Trophic Level'] =='INVERT'\n",
    "df_INVERT = df.loc[mask]"
   ]
  },
  {
   "cell_type": "code",
   "execution_count": 11,
   "id": "ca882867",
   "metadata": {},
   "outputs": [
    {
     "data": {
      "text/plain": [
       "1710"
      ]
     },
     "execution_count": 11,
     "metadata": {},
     "output_type": "execute_result"
    }
   ],
   "source": [
    "df_INVERT['Chemical name'].nunique()"
   ]
  },
  {
   "cell_type": "code",
   "execution_count": 5,
   "id": "e3d37299",
   "metadata": {},
   "outputs": [],
   "source": [
    "y = df['Effect value']"
   ]
  },
  {
   "cell_type": "code",
   "execution_count": 47,
   "id": "61aced48-cc13-47fe-8cca-07b1fac0da57",
   "metadata": {},
   "outputs": [
    {
     "data": {
      "text/html": [
       "<div>\n",
       "<style scoped>\n",
       "    .dataframe tbody tr th:only-of-type {\n",
       "        vertical-align: middle;\n",
       "    }\n",
       "\n",
       "    .dataframe tbody tr th {\n",
       "        vertical-align: top;\n",
       "    }\n",
       "\n",
       "    .dataframe thead th {\n",
       "        text-align: right;\n",
       "    }\n",
       "</style>\n",
       "<table border=\"1\" class=\"dataframe\">\n",
       "  <thead>\n",
       "    <tr style=\"text-align: right;\">\n",
       "      <th></th>\n",
       "      <th>CAS</th>\n",
       "      <th>Chemical name</th>\n",
       "      <th>Latin name</th>\n",
       "      <th>Trophic Level</th>\n",
       "      <th>Effect</th>\n",
       "      <th>Effect value</th>\n",
       "      <th>Unit</th>\n",
       "      <th>Test type</th>\n",
       "      <th>Test statistic</th>\n",
       "      <th>Duration</th>\n",
       "      <th>Duration (days)</th>\n",
       "      <th>Duration (hours)</th>\n",
       "      <th>Effect is 5X above water solubility</th>\n",
       "      <th>Source</th>\n",
       "      <th>version</th>\n",
       "      <th>Reported chemical name</th>\n",
       "      <th>original CAS</th>\n",
       "    </tr>\n",
       "  </thead>\n",
       "  <tbody>\n",
       "    <tr>\n",
       "      <th>0</th>\n",
       "      <td>50000</td>\n",
       "      <td>Formaldehyde;Formaldehyde</td>\n",
       "      <td>Roccus saxatilis</td>\n",
       "      <td>FISH</td>\n",
       "      <td>Mortality/Growth</td>\n",
       "      <td>18.00</td>\n",
       "      <td>mg/L</td>\n",
       "      <td>A</td>\n",
       "      <td>EC50</td>\n",
       "      <td>4 days</td>\n",
       "      <td>4.0</td>\n",
       "      <td>96.0</td>\n",
       "      <td>0</td>\n",
       "      <td>EPAPPID 00028002</td>\n",
       "      <td>EnviroTox.v2</td>\n",
       "      <td>Formaldehyde</td>\n",
       "      <td>50000</td>\n",
       "    </tr>\n",
       "    <tr>\n",
       "      <th>1</th>\n",
       "      <td>50000</td>\n",
       "      <td>Formaldehyde;Formaldehyde</td>\n",
       "      <td>Oncorhynchus mykiss</td>\n",
       "      <td>FISH</td>\n",
       "      <td>Mortality/Growth</td>\n",
       "      <td>1.41</td>\n",
       "      <td>mg/L</td>\n",
       "      <td>A</td>\n",
       "      <td>EC50</td>\n",
       "      <td>4 days</td>\n",
       "      <td>4.0</td>\n",
       "      <td>96.0</td>\n",
       "      <td>0</td>\n",
       "      <td>EPAPPID 00101857</td>\n",
       "      <td>EnviroTox.v2</td>\n",
       "      <td>Formaldehyde</td>\n",
       "      <td>50000</td>\n",
       "    </tr>\n",
       "    <tr>\n",
       "      <th>2</th>\n",
       "      <td>50000</td>\n",
       "      <td>Formaldehyde;Formaldehyde</td>\n",
       "      <td>Lepomis macrochirus</td>\n",
       "      <td>FISH</td>\n",
       "      <td>Mortality/Growth</td>\n",
       "      <td>1.51</td>\n",
       "      <td>mg/L</td>\n",
       "      <td>A</td>\n",
       "      <td>EC50</td>\n",
       "      <td>4 days</td>\n",
       "      <td>4.0</td>\n",
       "      <td>96.0</td>\n",
       "      <td>0</td>\n",
       "      <td>EPAPPID 00101857</td>\n",
       "      <td>EnviroTox.v2</td>\n",
       "      <td>Formaldehyde</td>\n",
       "      <td>50000</td>\n",
       "    </tr>\n",
       "    <tr>\n",
       "      <th>3</th>\n",
       "      <td>50000</td>\n",
       "      <td>Formaldehyde;Formaldehyde</td>\n",
       "      <td>Lepomis macrochirus</td>\n",
       "      <td>FISH</td>\n",
       "      <td>Mortality/Growth</td>\n",
       "      <td>1.79</td>\n",
       "      <td>mg/L</td>\n",
       "      <td>A</td>\n",
       "      <td>EC50</td>\n",
       "      <td>4 days</td>\n",
       "      <td>4.0</td>\n",
       "      <td>96.0</td>\n",
       "      <td>0</td>\n",
       "      <td>EPAPPID 00101857</td>\n",
       "      <td>EnviroTox.v2</td>\n",
       "      <td>Formaldehyde</td>\n",
       "      <td>50000</td>\n",
       "    </tr>\n",
       "    <tr>\n",
       "      <th>4</th>\n",
       "      <td>50000</td>\n",
       "      <td>Formaldehyde;Formaldehyde</td>\n",
       "      <td>Oncorhynchus mykiss</td>\n",
       "      <td>FISH</td>\n",
       "      <td>Mortality/Growth</td>\n",
       "      <td>2.24</td>\n",
       "      <td>mg/L</td>\n",
       "      <td>A</td>\n",
       "      <td>EC50</td>\n",
       "      <td>4 days</td>\n",
       "      <td>4.0</td>\n",
       "      <td>96.0</td>\n",
       "      <td>0</td>\n",
       "      <td>EPAPPID 00101857</td>\n",
       "      <td>EnviroTox.v2</td>\n",
       "      <td>Formaldehyde</td>\n",
       "      <td>50000</td>\n",
       "    </tr>\n",
       "  </tbody>\n",
       "</table>\n",
       "</div>"
      ],
      "text/plain": [
       "     CAS              Chemical name           Latin name Trophic Level  \\\n",
       "0  50000  Formaldehyde;Formaldehyde     Roccus saxatilis          FISH   \n",
       "1  50000  Formaldehyde;Formaldehyde  Oncorhynchus mykiss          FISH   \n",
       "2  50000  Formaldehyde;Formaldehyde  Lepomis macrochirus          FISH   \n",
       "3  50000  Formaldehyde;Formaldehyde  Lepomis macrochirus          FISH   \n",
       "4  50000  Formaldehyde;Formaldehyde  Oncorhynchus mykiss          FISH   \n",
       "\n",
       "             Effect  Effect value  Unit Test type Test statistic Duration  \\\n",
       "0  Mortality/Growth         18.00  mg/L         A           EC50   4 days   \n",
       "1  Mortality/Growth          1.41  mg/L         A           EC50   4 days   \n",
       "2  Mortality/Growth          1.51  mg/L         A           EC50   4 days   \n",
       "3  Mortality/Growth          1.79  mg/L         A           EC50   4 days   \n",
       "4  Mortality/Growth          2.24  mg/L         A           EC50   4 days   \n",
       "\n",
       "   Duration (days)  Duration (hours)  Effect is 5X above water solubility  \\\n",
       "0              4.0              96.0                                    0   \n",
       "1              4.0              96.0                                    0   \n",
       "2              4.0              96.0                                    0   \n",
       "3              4.0              96.0                                    0   \n",
       "4              4.0              96.0                                    0   \n",
       "\n",
       "             Source       version Reported chemical name  original CAS  \n",
       "0  EPAPPID 00028002  EnviroTox.v2           Formaldehyde         50000  \n",
       "1  EPAPPID 00101857  EnviroTox.v2           Formaldehyde         50000  \n",
       "2  EPAPPID 00101857  EnviroTox.v2           Formaldehyde         50000  \n",
       "3  EPAPPID 00101857  EnviroTox.v2           Formaldehyde         50000  \n",
       "4  EPAPPID 00101857  EnviroTox.v2           Formaldehyde         50000  "
      ]
     },
     "execution_count": 47,
     "metadata": {},
     "output_type": "execute_result"
    }
   ],
   "source": [
    "df.head()"
   ]
  },
  {
   "cell_type": "markdown",
   "id": "e04aca43-4339-4cf9-a5b0-1fdc6b884a34",
   "metadata": {},
   "source": [
    "## IR - data"
   ]
  },
  {
   "cell_type": "code",
   "execution_count": 3,
   "id": "e6f25d0d-f6ae-4e35-b435-dc000f2356af",
   "metadata": {},
   "outputs": [],
   "source": [
    "fname = '/Users/mikhailgasanov/Yandex.Disk.localized/Code/computed_spectra.csv'\n",
    "\n",
    "df_ir = pd.read_csv(fname)"
   ]
  },
  {
   "cell_type": "code",
   "execution_count": 13,
   "id": "03b3d752-fec2-439f-ae31-59a59fd869ee",
   "metadata": {},
   "outputs": [],
   "source": [
    "ec50 = np.random.normal(loc=2, size=len(df_ir))"
   ]
  },
  {
   "cell_type": "code",
   "execution_count": 14,
   "id": "526d8c8d-bb95-4f53-a89b-ced6dd53a400",
   "metadata": {},
   "outputs": [],
   "source": [
    "df_ir['EC50']= ec50"
   ]
  },
  {
   "cell_type": "code",
   "execution_count": 18,
   "id": "fca19f2b-bf91-4470-add3-0fcada5801eb",
   "metadata": {},
   "outputs": [
    {
     "data": {
      "text/plain": [
       "<Axes: >"
      ]
     },
     "execution_count": 18,
     "metadata": {},
     "output_type": "execute_result"
    },
    {
     "data": {
      "image/png": "[encoded data removed]",
      "text/plain": [
       "<Figure size 640x480 with 1 Axes>"
      ]
     },
     "metadata": {},
     "output_type": "display_data"
    }
   ],
   "source": [
    "df_ir.iloc[0,1:-1].plot()"
   ]
  },
  {
   "cell_type": "code",
   "execution_count": 44,
   "id": "37983e14-4946-42b1-8661-6d8263cdba21",
   "metadata": {},
   "outputs": [
    {
     "name": "stdout",
     "output_type": "stream",
     "text": [
      "Mean Squared Error: 1.1299256993446727\n"
     ]
    }
   ],
   "source": [
    "# Import necessary libraries\n",
    "import numpy as np\n",
    "from sklearn.model_selection import train_test_split\n",
    "from sklearn.ensemble import RandomForestRegressor\n",
    "from sklearn.metrics import mean_squared_error\n",
    "import matplotlib.pyplot as plt\n",
    "\n",
    "# Generate some example data\n",
    "np.random.seed(42)\n",
    "# X = 2 * np.random.rand(100, 1)\n",
    "# y = 4 + 3 * X + np.random.randn(100, 1)\n",
    "y = ec50[:500]\n",
    "X = X[:500, :100]\n",
    "\n",
    "\n",
    "\n",
    "# Split the data into training and testing sets\n",
    "X_train, X_test, y_train, y_test = train_test_split(X, y, test_size=0.3, random_state=42)\n",
    "\n",
    "# Create a RandomForestRegressor\n",
    "rf_regressor = RandomForestRegressor(n_estimators=100, random_state=42)\n",
    "\n",
    "# Train the model\n",
    "rf_regressor.fit(X_train, y_train.ravel())\n",
    "\n",
    "# Make predictions on the test set\n",
    "y_pred = rf_regressor.predict(X_test)\n",
    "\n",
    "# Evaluate the model\n",
    "mse = mean_squared_error(y_test, y_pred)\n",
    "print(f'Mean Squared Error: {mse}')"
   ]
  },
  {
   "cell_type": "code",
   "execution_count": 45,
   "id": "58ce3894-54a8-43cd-90cb-d15be179336d",
   "metadata": {},
   "outputs": [],
   "source": [
    "import seaborn as sns"
   ]
  },
  {
   "cell_type": "code",
   "execution_count": 46,
   "id": "518adb32-0f65-48d6-89dc-bccb102b6fe8",
   "metadata": {},
   "outputs": [
    {
     "data": {
      "text/plain": [
       "<Axes: >"
      ]
     },
     "execution_count": 46,
     "metadata": {},
     "output_type": "execute_result"
    },
    {
     "data": {
      "image/png": "[encoded data removed]",
      "text/plain": [
       "<Figure size 640x480 with 1 Axes>"
      ]
     },
     "metadata": {},
     "output_type": "display_data"
    }
   ],
   "source": [
    "sns.regplot(x=y_test, y=y_pred)"
   ]
  },
  {
   "cell_type": "markdown",
   "id": "183f3b4f-5fdd-4b8c-96d5-48910b12909a",
   "metadata": {},
   "source": [
    "## 1D CNN"
   ]
  },
  {
   "cell_type": "code",
   "execution_count": null,
   "id": "2a88d118-6727-4aa3-be8c-5ede18026d19",
   "metadata": {},
   "outputs": [],
   "source": [
    "\n",
    "# Import necessary libraries\n",
    "import numpy as np\n",
    "from keras.models import Sequential\n",
    "from keras.layers import Conv1D, MaxPooling1D, Flatten, Dense\n",
    "from sklearn.model_selection import train_test_split\n",
    "from sklearn.metrics import mean_squared_error\n",
    "import matplotlib.pyplot as plt\n",
    "\n",
    "# Generate some example data\n",
    "np.random.seed(42)\n",
    "X = np.linspace(0, 10, 100)\n",
    "y = 2 * X + 1 + np.random.randn(100)\n",
    "\n",
    "# Reshape the data to fit the input requirements of 1D CNN\n",
    "X = X.reshape(-1, 1, 1)\n",
    "\n",
    "# Split the data into training and testing sets\n",
    "X_train, X_test, y_train, y_test = train_test_split(X, y, test_size=0.2, random_state=42)\n",
    "\n",
    "# Build the 1D CNN model\n",
    "model = Sequential()\n",
    "model.add(Conv1D(filters=64, kernel_size=1, activation='relu', input_shape=(1, 1)))\n",
    "model.add(MaxPooling1D(pool_size=1))\n",
    "model.add(Flatten())\n",
    "model.add(Dense(50, activation='relu'))\n",
    "model.add(Dense(1))  # Output layer with 1 neuron for regression\n",
    "model.compile(optimizer='adam', loss='mean_squared_error')\n",
    "\n",
    "# Train the model\n",
    "model.fit(X_train, y_train, epochs=50, batch_size=8, verbose=1)\n",
    "\n",
    "# Make predictions on the test set\n",
    "y_pred = model.predict(X_test)\n",
    "\n",
    "# Evaluate the model\n",
    "mse = mean_squared_error(y_test, y_pred)\n",
    "print(f'Mean Squared Error: {mse}')\n",
    "\n",
    "# Plot the results\n",
    "plt.scatter(X_test[:, 0, 0], y_test, color='black', label='Actual')\n",
    "plt.scatter(X_test[:, 0, 0], y_pred, color='blue', label='Predicted')\n",
    "plt.xlabel('X')\n",
    "plt.ylabel('y')\n",
    "plt.legend()\n",
    "plt.show()\n"
   ]
  }
 ],
 "metadata": {
  "kernelspec": {
   "display_name": "Python 3 (ipykernel)",
   "language": "python",
   "name": "python3"
  },
  "language_info": {
   "codemirror_mode": {
    "name": "ipython",
    "version": 3
   },
   "file_extension": ".py",
   "mimetype": "text/x-python",
   "name": "python",
   "nbconvert_exporter": "python",
   "pygments_lexer": "ipython3",
   "version": "3.12.0"
  }
 },
 "nbformat": 4,
 "nbformat_minor": 5
}
